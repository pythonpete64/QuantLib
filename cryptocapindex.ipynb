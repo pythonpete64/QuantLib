{
 "cells": [
  {
   "cell_type": "markdown",
   "metadata": {},
   "source": [
    "what i want to  do is\n",
    "1. create a list of dataframes for the top 100 tokens\n",
    "2. create a portfolio with \n",
    "\n",
    "    setup()\n",
    "        # make a template dataframe with the required headings\n",
    "        template = [timestamp, rank, circulating_supply, total_supply, price, market_cap]\n",
    "    \n",
    "    portfolio \n",
    "    [timestamp, id, name, ticker, weight]\n",
    "    \n",
    "    \n",
    "    updateTickers(responce)\n",
    "        for each id in responce:\n",
    "            if id[timestamp] < responce[id][timestamp]\n",
    "                id.append(responce[id][timestamp])\n",
    "            \n",
    "    calculateWeightings(portfolio)\n",
    "    \n",
    "    \n",
    "\n",
    "    columns being the headers\n",
    "    plus the added column of weighting\n",
    "    indexed by lastupdated(converted into a date time object)\n",
    "2. create a dataframe \n",
    "2. every time a new call is made, the dataframe is updated with the "
   ]
  },
  {
   "cell_type": "code",
   "execution_count": 68,
   "metadata": {
    "scrolled": false
   },
   "outputs": [],
   "source": [
    "import requests\n",
    "import pandas as pd\n",
    "\n",
    "# setup\n",
    "portfolio = []\n",
    "urls = []\n",
    "template_df = pd.DataFrame(columns=[['timestamp', 'name', 'ticker, ''rank',\n",
    "                                     'circulating_supply', 'total_supply',\n",
    "                                     'price', 'market_cap', 'weight']], )\n",
    "\n",
    "# \n",
    "urls.append('https://api.coinmarketcap.com/v2/ticker/?limit=100&sort=id')\n",
    "urls.append('https://api.coinmarketcap.com/v2/ticker/?start=201&sort=id')\n",
    "urls.append('https://api.coinmarketcap.com/v2/ticker/?start=301&sort=id')\n",
    "urls.append('https://api.coinmarketcap.com/v2/ticker/?start=401&sort=id')\n",
    "urls.append('https://api.coinmarketcap.com/v2/ticker/?start=501&sort=id')\n",
    "urls.append('https://api.coinmarketcap.com/v2/ticker/?start=601&sort=id')\n",
    "urls.append('https://api.coinmarketcap.com/v2/ticker/?start=701&sort=id')\n",
    "urls.append('https://api.coinmarketcap.com/v2/ticker/?start=801&sort=id')\n",
    "urls.append('https://api.coinmarketcap.com/v2/ticker/?start=901&sort=id')\n",
    "urls.append('https://api.coinmarketcap.com/v2/ticker/?start=1001&sort=id')\n",
    "urls.append('https://api.coinmarketcap.com/v2/ticker/?start=1101&sort=id')\n",
    "urls.append('https://api.coinmarketcap.com/v2/ticker/?start=1201&sort=id')\n",
    "urls.append('https://api.coinmarketcap.com/v2/ticker/?start=1301&sort=id')\n",
    "urls.append('https://api.coinmarketcap.com/v2/ticker/?start=1401&sort=id')\n",
    "urls.append('https://api.coinmarketcap.com/v2/ticker/?start=1501&sort=id')\n",
    "urls.append('https://api.coinmarketcap.com/v2/ticker/?start=1601&sort=id')\n",
    "urls.append('https://api.coinmarketcap.com/v2/ticker/?start=1701&sort=id')\n",
    "urls.append('https://api.coinmarketcap.com/v2/ticker/?start=1801&sort=id')\n",
    "\n",
    "\n",
    "\n"
   ]
  },
  {
   "cell_type": "code",
   "execution_count": 79,
   "metadata": {},
   "outputs": [
    {
     "name": "stdout",
     "output_type": "stream",
     "text": [
      "<class 'method'>\n"
     ]
    }
   ],
   "source": [
    "def get_json_data():\n",
    "    data = []\n",
    "    \n",
    "    \n",
    "    for num in range(len(urls)):\n",
    "        data.append(requests.get(urls[num]).json)\n",
    "        \n",
    "        # json_data = requests.get(url1).json()\n",
    "    \n",
    "    print(type(data[0]))\n",
    "\n",
    "def check_if_id_in_portfolio(ident):\n",
    "    return false\n",
    "\n",
    "def populate_portfolio():\n",
    "    json_data = get_json_data()\n",
    "    \n",
    "    # loop over all the json objects in the list\n",
    "    for data in json_data:\n",
    "        # loop over all the id numbers in the object,\n",
    "        # create a new dataframe and put it in the\n",
    "        # portfolio list\n",
    "        for index in data:\n",
    "            temp_df = template_df.copy()\n",
    "            template_df['name'] = json_data[data]['data'][index]['name']\n",
    "            \n",
    "get_json_data()\n",
    "            \n",
    "            \n",
    "            "
   ]
  },
  {
   "cell_type": "code",
   "execution_count": null,
   "metadata": {},
   "outputs": [],
   "source": [
    "\n",
    "\n",
    "json_data = requests.get(url1).json()\n",
    "type(json_data['data'][id]['symbol'])\n",
    "\n",
    "for id in json_data['data']:\n",
    "    ticker = json_data['data'][id]['symbol']\n",
    "    portfolio.append(pd.DataFrame(columns=columns))\n",
    "    \n",
    "print(portfolio)\n",
    "\n"
   ]
  },
  {
   "cell_type": "code",
   "execution_count": null,
   "metadata": {},
   "outputs": [],
   "source": []
  },
  {
   "cell_type": "code",
   "execution_count": null,
   "metadata": {},
   "outputs": [],
   "source": []
  },
  {
   "cell_type": "code",
   "execution_count": null,
   "metadata": {},
   "outputs": [],
   "source": []
  }
 ],
 "metadata": {
  "kernelspec": {
   "display_name": "Python 3",
   "language": "python",
   "name": "python3"
  },
  "language_info": {
   "codemirror_mode": {
    "name": "ipython",
    "version": 3
   },
   "file_extension": ".py",
   "mimetype": "text/x-python",
   "name": "python",
   "nbconvert_exporter": "python",
   "pygments_lexer": "ipython3",
   "version": "3.6.5"
  }
 },
 "nbformat": 4,
 "nbformat_minor": 2
}
